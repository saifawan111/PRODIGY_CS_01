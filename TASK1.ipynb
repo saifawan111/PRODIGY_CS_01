{
 "cells": [
  {
   "cell_type": "code",
   "execution_count": 1,
   "id": "8a418255-8a02-46f0-8b4b-d08056199b14",
   "metadata": {},
   "outputs": [
    {
     "name": "stdout",
     "output_type": "stream",
     "text": [
      "Caesar Cipher Encryption and Decryption\n"
     ]
    },
    {
     "name": "stdin",
     "output_type": "stream",
     "text": [
      "Do you want to (e)ncrypt or (d)ecrypt?  D\n",
      "Enter your message:  WERTHT\n",
      "Enter the shift value:  3\n"
     ]
    },
    {
     "name": "stdout",
     "output_type": "stream",
     "text": [
      "Decrypted message: TBOQEQ\n"
     ]
    }
   ],
   "source": [
    "def encrypt(text, shift):\n",
    "    \"\"\"Encrypts the text using the Caesar Cipher algorithm.\"\"\"\n",
    "    encrypted_text = \"\"\n",
    "    for char in text:\n",
    "        if char.isalpha():\n",
    "            shift_base = 65 if char.isupper() else 97\n",
    "            encrypted_char = chr((ord(char) - shift_base + shift) % 26 + shift_base)\n",
    "            encrypted_text += encrypted_char\n",
    "        else:\n",
    "            encrypted_text += char\n",
    "    return encrypted_text\n",
    "\n",
    "def decrypt(text, shift):\n",
    "    \"\"\"Decrypts the text using the Caesar Cipher algorithm.\"\"\"\n",
    "    return encrypt(text, -shift)\n",
    "\n",
    "def main():\n",
    "    \"\"\"Main function to perform encryption and decryption based on user input.\"\"\"\n",
    "    print(\"Caesar Cipher Encryption and Decryption\")\n",
    "    choice = input(\"Do you want to (e)ncrypt or (d)ecrypt? \").lower()\n",
    "    \n",
    "    if choice not in ['e', 'd']:\n",
    "        print(\"Invalid choice! Please enter 'e' for encryption or 'd' for decryption.\")\n",
    "        return\n",
    "    \n",
    "    message = input(\"Enter your message: \")\n",
    "    shift = int(input(\"Enter the shift value: \"))\n",
    "    \n",
    "    if choice == 'e':\n",
    "        result = encrypt(message, shift)\n",
    "        print(\"Encrypted message:\", result)\n",
    "    elif choice == 'd':\n",
    "        result = decrypt(message, shift)\n",
    "        print(\"Decrypted message:\", result)\n",
    "\n",
    "if __name__ == \"__main__\":\n",
    "    main()\n"
   ]
  },
  {
   "cell_type": "code",
   "execution_count": null,
   "id": "b9210ada-85b5-47ec-94a5-25af5623da1b",
   "metadata": {},
   "outputs": [],
   "source": []
  }
 ],
 "metadata": {
  "kernelspec": {
   "display_name": "Python 3 (ipykernel)",
   "language": "python",
   "name": "python3"
  },
  "language_info": {
   "codemirror_mode": {
    "name": "ipython",
    "version": 3
   },
   "file_extension": ".py",
   "mimetype": "text/x-python",
   "name": "python",
   "nbconvert_exporter": "python",
   "pygments_lexer": "ipython3",
   "version": "3.11.7"
  }
 },
 "nbformat": 4,
 "nbformat_minor": 5
}
